{
  "nbformat": 4,
  "nbformat_minor": 0,
  "metadata": {
    "colab": {
      "provenance": [],
      "authorship_tag": "ABX9TyPRLHywZpIVQq8FldUSYZiN",
      "include_colab_link": true
    },
    "kernelspec": {
      "name": "python3",
      "display_name": "Python 3"
    },
    "language_info": {
      "name": "python"
    }
  },
  "cells": [
    {
      "cell_type": "markdown",
      "metadata": {
        "id": "view-in-github",
        "colab_type": "text"
      },
      "source": [
        "<a href=\"https://colab.research.google.com/github/Revathy-ML/PCA_ML/blob/main/NN_Assignment.ipynb\" target=\"_parent\"><img src=\"https://colab.research.google.com/assets/colab-badge.svg\" alt=\"Open In Colab\"/></a>"
      ]
    },
    {
      "cell_type": "markdown",
      "source": [
        "Objective:\n",
        "The primary objective is to predict the output value y based on two input features\n",
        "x1 and x2 using a basic neural network model with the equation y=3x1+4x2. The\n",
        "neural network will be trained using a feed-forward and back-propagation\n",
        "mechanism to minimize the error between the predicted and actual values.\n",
        "Methodology:\n",
        "1. Activation Functions:\n",
        "● Define the sigmoid function, a popular activation function used in neural\n",
        "networks.\n",
        "● Define the tanh function, which is another common activation function that\n",
        "returns values between -1 and 1.\n",
        "● Define the relu function, which returns positive values as they are and\n",
        "zeroes out negative values."
      ],
      "metadata": {
        "id": "wquXLPonAs1J"
      }
    },
    {
      "cell_type": "code",
      "source": [
        "import numpy as np\n",
        "\n",
        "# Sigmoid function\n",
        "def sigmoid(x):\n",
        "    return 1 / (1 + np.exp(-x))\n",
        "\n",
        "# Tanh function\n",
        "def tanh(x):\n",
        "    return np.tanh(x)\n",
        "\n",
        "# ReLU function\n",
        "def relu(x):\n",
        "    return np.maximum(0, x)\n"
      ],
      "metadata": {
        "id": "X6hbequFAwEi"
      },
      "execution_count": 1,
      "outputs": []
    },
    {
      "cell_type": "markdown",
      "source": [],
      "metadata": {
        "id": "79_Mm_ylArJ4"
      }
    },
    {
      "cell_type": "code",
      "source": [
        "# Training data\n",
        "X = np.array([[1, 2], [2, 3], [3, 4], [4, 5]])  # Inputs (x1, x2)\n",
        "y_true = np.array([11, 17, 23, 29])  # Actual outputs (3x1 + 4x2)\n",
        "\n",
        "# Initialize weights and bias\n",
        "W = np.random.rand(2)  # Weights for x1 and x2\n",
        "b = np.random.rand()   # Bias\n",
        "learning_rate = 0.01\n",
        "\n",
        "# Activation function (use relu, sigmoid, or tanh)\n",
        "activation = relu\n",
        "\n",
        "# Training loop\n",
        "for epoch in range(1000):\n",
        "    # Forward pass\n",
        "    z = np.dot(X, W) + b  # Linear combination\n",
        "    y_pred = activation(z)  # Apply activation\n",
        "\n",
        "    # Calculate loss (mean squared error)\n",
        "    loss = np.mean((y_true - y_pred)**2)\n",
        "\n",
        "    # Backpropagation\n",
        "    grad_y_pred = 2 * (y_pred - y_true) / y_true.size  # Gradient of loss w.r.t y_pred\n",
        "    grad_z = grad_y_pred * (z > 0)  # Gradient through activation (ReLU derivative)\n",
        "\n",
        "    grad_W = np.dot(X.T, grad_z)  # Gradient of weights\n",
        "    grad_b = np.sum(grad_z)  # Gradient of bias\n",
        "\n",
        "    # Update weights and bias\n",
        "    W -= learning_rate * grad_W\n",
        "    b -= learning_rate * grad_b\n",
        "\n",
        "    # Print loss every 100 epochs\n",
        "    if epoch % 100 == 0:\n",
        "        print(f\"Epoch {epoch}, Loss: {loss}\")\n",
        "\n",
        "# Final weights and bias\n",
        "print(\"Trained Weights:\", W)\n",
        "print(\"Trained Bias:\", b)\n"
      ],
      "metadata": {
        "colab": {
          "base_uri": "https://localhost:8080/"
        },
        "id": "ANOKcT6hA6Zz",
        "outputId": "bbe513d3-b292-4884-cc67-30ce99f42acc"
      },
      "execution_count": 2,
      "outputs": [
        {
          "output_type": "stream",
          "name": "stdout",
          "text": [
            "Epoch 0, Loss: 307.40701425721727\n",
            "Epoch 100, Loss: 0.0006278866741543325\n",
            "Epoch 200, Loss: 0.0003154474425373139\n",
            "Epoch 300, Loss: 0.00015847937709037656\n",
            "Epoch 400, Loss: 7.961932663313219e-05\n",
            "Epoch 500, Loss: 4.0000391785336686e-05\n",
            "Epoch 600, Loss: 2.0096017017984053e-05\n",
            "Epoch 700, Loss: 1.0096148611605467e-05\n",
            "Epoch 800, Loss: 5.072259676946542e-06\n",
            "Epoch 900, Loss: 2.548280460216861e-06\n",
            "Trained Weights: [2.76464188 3.2363142 ]\n",
            "Trained Bias: 1.7609246070086608\n"
          ]
        }
      ]
    },
    {
      "cell_type": "markdown",
      "source": [
        "2. Sample Data:\n",
        "● Use the following sample data for training:\n",
        "x1=3, x2=2, yactual=17"
      ],
      "metadata": {
        "id": "cXJZ7gilYhb_"
      }
    },
    {
      "cell_type": "code",
      "source": [
        "import numpy as np\n",
        "\n",
        "# Activation function\n",
        "def relu(x):\n",
        "    return np.maximum(0, x)\n",
        "\n",
        "# Derivative of ReLU for backpropagation\n",
        "def relu_derivative(x):\n",
        "    return np.where(x > 0, 1, 0)\n",
        "\n",
        "# Sample data\n",
        "x1, x2, y_actual = 3, 2, 17\n",
        "X = np.array([x1, x2])  # Input features as a single array\n",
        "y_true = y_actual       # Actual output\n",
        "\n",
        "# Initialize weights and bias\n",
        "W = np.random.rand(2)  # Weights for x1 and x2\n",
        "b = np.random.rand()   # Bias\n",
        "learning_rate = 0.01\n",
        "\n",
        "# Training loop\n",
        "epochs = 1000\n",
        "for epoch in range(epochs):\n",
        "    # Forward pass\n",
        "    z = np.dot(W, X) + b  # Linear combination\n",
        "    y_pred = relu(z)      # Apply activation (ReLU)\n",
        "\n",
        "    # Calculate loss (mean squared error)\n",
        "    loss = (y_pred - y_true)**2\n",
        "\n",
        "    # Backpropagation\n",
        "    grad_y_pred = 2 * (y_pred - y_true)  # Gradient of loss w.r.t y_pred\n",
        "    grad_z = grad_y_pred * relu_derivative(z)  # Through activation\n",
        "    grad_W = grad_z * X  # Gradient of weights\n",
        "    grad_b = grad_z      # Gradient of bias\n",
        "\n",
        "    # Update weights and bias\n",
        "    W -= learning_rate * grad_W\n",
        "    b -= learning_rate * grad_b\n",
        "\n",
        "    # Print loss every 100 epochs\n",
        "    if epoch % 100 == 0:\n",
        "        print(f\"Epoch {epoch}, Loss: {loss}\")\n",
        "\n",
        "# Final weights and bias\n",
        "print(\"Trained Weights:\", W)\n",
        "print(\"Trained Bias:\", b)\n",
        "\n",
        "# Test prediction\n",
        "y_test_pred = relu(np.dot(W, X) + b)\n",
        "print(\"Predicted y:\", y_test_pred)\n",
        "print(\"Actual y:\", y_true)\n"
      ],
      "metadata": {
        "colab": {
          "base_uri": "https://localhost:8080/"
        },
        "id": "drBQVwvDYiRc",
        "outputId": "91a9bd43-46d2-4132-ad73-413a8b44afd3"
      },
      "execution_count": 3,
      "outputs": [
        {
          "output_type": "stream",
          "name": "stdout",
          "text": [
            "Epoch 0, Loss: 254.07627930764122\n",
            "Epoch 100, Loss: 7.888609052210118e-27\n",
            "Epoch 200, Loss: 1.262177448353619e-29\n",
            "Epoch 300, Loss: 1.262177448353619e-29\n",
            "Epoch 400, Loss: 1.262177448353619e-29\n",
            "Epoch 500, Loss: 1.262177448353619e-29\n",
            "Epoch 600, Loss: 1.262177448353619e-29\n",
            "Epoch 700, Loss: 1.262177448353619e-29\n",
            "Epoch 800, Loss: 1.262177448353619e-29\n",
            "Epoch 900, Loss: 1.262177448353619e-29\n",
            "Trained Weights: [3.52781216 2.54496494]\n",
            "Trained Bias: 1.32663363286923\n",
            "Predicted y: 16.999999999999996\n",
            "Actual y: 17\n"
          ]
        }
      ]
    },
    {
      "cell_type": "code",
      "source": [],
      "metadata": {
        "id": "NHFBrudZYzvD"
      },
      "execution_count": null,
      "outputs": []
    },
    {
      "cell_type": "markdown",
      "source": [
        "3. Feed Forward:\n",
        "● Initialize the random weights w1 and w2 between 1 and 10.\n",
        "● Predict the output ypred using the equation ypred= x1 x w1 + x2 x w2"
      ],
      "metadata": {
        "id": "YEU7qDWjY4TA"
      }
    },
    {
      "cell_type": "code",
      "source": [
        "import numpy as np\n",
        "\n",
        "# Initialize random weights between 1 and 10\n",
        "np.random.seed(42)  # For reproducibility\n",
        "w1 = np.random.uniform(1, 10)\n",
        "w2 = np.random.uniform(1, 10)\n",
        "\n",
        "# Input data\n",
        "x1, x2 = 3, 2  # Provided input values\n",
        "y_actual = 17  # Actual output value\n",
        "\n",
        "# Predict output using feed-forward equation\n",
        "y_pred = x1 * w1 + x2 * w2\n",
        "\n",
        "# Print results\n",
        "print(f\"Initialized Weight w1: {w1:.2f}\")\n",
        "print(f\"Initialized Weight w2: {w2:.2f}\")\n",
        "print(f\"Predicted y_pred: {y_pred:.2f}\")\n",
        "print(f\"Actual y_actual: {y_actual}\")\n"
      ],
      "metadata": {
        "colab": {
          "base_uri": "https://localhost:8080/"
        },
        "id": "KT0cyZ56Y5oP",
        "outputId": "a3820932-513a-4fbb-b2e4-d68972757f8a"
      },
      "execution_count": 4,
      "outputs": [
        {
          "output_type": "stream",
          "name": "stdout",
          "text": [
            "Initialized Weight w1: 4.37\n",
            "Initialized Weight w2: 9.56\n",
            "Predicted y_pred: 32.23\n",
            "Actual y_actual: 17\n"
          ]
        }
      ]
    },
    {
      "cell_type": "markdown",
      "source": [
        "Error Calculation:\n",
        "● Compute the squared error as error = (yactual-ypred)*(yactual-ypred)"
      ],
      "metadata": {
        "id": "kSqdCDqWZaPI"
      }
    },
    {
      "cell_type": "code",
      "source": [
        "# Inputs and weights\n",
        "x1, x2 = 3, 2  # Input features\n",
        "y_actual = 17  # Actual output\n",
        "\n",
        "# Randomly initialized weights between 1 and 10\n",
        "np.random.seed(42)  # For reproducibility\n",
        "w1 = np.random.uniform(1, 10)\n",
        "w2 = np.random.uniform(1, 10)\n",
        "\n",
        "# Feed-forward: Predict y_pred\n",
        "y_pred = x1 * w1 + x2 * w2\n",
        "\n",
        "# Compute squared error\n",
        "error = (y_actual - y_pred)**2\n",
        "\n",
        "# Print results\n",
        "print(f\"y_actual: {y_actual}\")\n",
        "print(f\"y_pred: {y_pred:.2f}\")\n",
        "print(f\"Squared Error: {error:.2f}\")\n"
      ],
      "metadata": {
        "id": "8Krm9m9TZHru"
      },
      "execution_count": null,
      "outputs": []
    },
    {
      "cell_type": "markdown",
      "source": [
        "5. Back Propagation:\n",
        "● Compute the gradients of the error with respect to the weights.\n",
        "● Update the weights using the computed gradients and a learning rate."
      ],
      "metadata": {
        "id": "aIGSj7VnZiFy"
      }
    },
    {
      "cell_type": "code",
      "source": [
        "# Inputs and target output\n",
        "x1, x2 = 3, 2\n",
        "y_actual = 17\n",
        "\n",
        "# Randomly initialized weights between 1 and 10\n",
        "np.random.seed(42)\n",
        "w1 = np.random.uniform(1, 10)\n",
        "w2 = np.random.uniform(1, 10)\n",
        "\n",
        "# Learning rate\n",
        "learning_rate = 0.01\n",
        "\n",
        "# Forward pass: Compute y_pred\n",
        "y_pred = x1 * w1 + x2 * w2\n",
        "\n",
        "# Compute squared error\n",
        "error = (y_actual - y_pred)**2\n",
        "\n",
        "# Backpropagation: Compute gradients\n",
        "grad_w1 = -2 * (y_actual - y_pred) * x1\n",
        "grad_w2 = -2 * (y_actual - y_pred) * x2\n",
        "\n",
        "# Update weights\n",
        "w1 -= learning_rate * grad_w1\n",
        "w2 -= learning_rate * grad_w2\n",
        "\n",
        "# Print updated weights and error\n",
        "print(f\"Updated Weight w1: {w1:.2f}\")\n",
        "print(f\"Updated Weight w2: {w2:.2f}\")\n",
        "print(f\"Squared Error: {error:.2f}\")\n"
      ],
      "metadata": {
        "colab": {
          "base_uri": "https://localhost:8080/"
        },
        "id": "Ot3B6WbtZ0wt",
        "outputId": "b93a4772-9369-451a-d476-022f4a395473"
      },
      "execution_count": 5,
      "outputs": [
        {
          "output_type": "stream",
          "name": "stdout",
          "text": [
            "Updated Weight w1: 3.46\n",
            "Updated Weight w2: 8.95\n",
            "Squared Error: 231.81\n"
          ]
        }
      ]
    },
    {
      "cell_type": "markdown",
      "source": [
        "6. Training:\n",
        "● The above steps (Feed Forward to Back Propagation) are performed\n",
        "iteratively (20 times in this example) to refine the weights and minimize\n",
        "the error."
      ],
      "metadata": {
        "id": "jtEgjcIxZ9op"
      }
    },
    {
      "cell_type": "code",
      "source": [
        "import numpy as np\n",
        "\n",
        "# Initialize inputs and target output\n",
        "x1, x2 = 3, 2\n",
        "y_actual = 17\n",
        "\n",
        "# Randomly initialize weights between 1 and 10\n",
        "np.random.seed(42)\n",
        "w1 = np.random.uniform(1, 10)\n",
        "w2 = np.random.uniform(1, 10)\n",
        "\n",
        "# Learning rate\n",
        "learning_rate = 0.01\n",
        "\n",
        "# Training loop for 20 iterations\n",
        "epochs = 20\n",
        "for epoch in range(epochs):\n",
        "    # Forward pass: Compute y_pred\n",
        "    y_pred = x1 * w1 + x2 * w2\n",
        "\n",
        "    # Compute squared error\n",
        "    error = (y_actual - y_pred)**2\n",
        "\n",
        "    # Backpropagation: Compute gradients\n",
        "    grad_w1 = -2 * (y_actual - y_pred) * x1\n",
        "    grad_w2 = -2 * (y_actual - y_pred) * x2\n",
        "\n",
        "    # Update weights\n",
        "    w1 -= learning_rate * grad_w1\n",
        "    w2 -= learning_rate * grad_w2\n",
        "\n",
        "    # Print progress\n",
        "    print(f\"Epoch {epoch+1}:\")\n",
        "    print(f\"  y_pred: {y_pred:.2f}\")\n",
        "    print(f\"  Error: {error:.2f}\")\n",
        "    print(f\"  Updated w1: {w1:.2f}, w2: {w2:.2f}\")\n",
        "\n",
        "# Final weights and error\n",
        "print(\"\\nTraining Complete\")\n",
        "print(f\"Final Weights: w1 = {w1:.2f}, w2 = {w2:.2f}\")\n",
        "print(f\"Final Prediction: y_pred = {y_pred:.2f}\")\n",
        "print(f\"Final Error: {error:.2f}\")\n"
      ],
      "metadata": {
        "colab": {
          "base_uri": "https://localhost:8080/"
        },
        "id": "LahBkPjZZ-h8",
        "outputId": "9f17dcf2-3872-4040-894b-09283df5af7a"
      },
      "execution_count": 6,
      "outputs": [
        {
          "output_type": "stream",
          "name": "stdout",
          "text": [
            "Epoch 1:\n",
            "  y_pred: 32.23\n",
            "  Error: 231.81\n",
            "  Updated w1: 3.46, w2: 8.95\n",
            "Epoch 2:\n",
            "  y_pred: 28.27\n",
            "  Error: 126.94\n",
            "  Updated w1: 2.78, w2: 8.50\n",
            "Epoch 3:\n",
            "  y_pred: 25.34\n",
            "  Error: 69.51\n",
            "  Updated w1: 2.28, w2: 8.16\n",
            "Epoch 4:\n",
            "  y_pred: 23.17\n",
            "  Error: 38.07\n",
            "  Updated w1: 1.91, w2: 7.92\n",
            "Epoch 5:\n",
            "  y_pred: 21.57\n",
            "  Error: 20.84\n",
            "  Updated w1: 1.64, w2: 7.73\n",
            "Epoch 6:\n",
            "  y_pred: 20.38\n",
            "  Error: 11.41\n",
            "  Updated w1: 1.43, w2: 7.60\n",
            "Epoch 7:\n",
            "  y_pred: 19.50\n",
            "  Error: 6.25\n",
            "  Updated w1: 1.28, w2: 7.50\n",
            "Epoch 8:\n",
            "  y_pred: 18.85\n",
            "  Error: 3.42\n",
            "  Updated w1: 1.17, w2: 7.42\n",
            "Epoch 9:\n",
            "  y_pred: 18.37\n",
            "  Error: 1.87\n",
            "  Updated w1: 1.09, w2: 7.37\n",
            "Epoch 10:\n",
            "  y_pred: 18.01\n",
            "  Error: 1.03\n",
            "  Updated w1: 1.03, w2: 7.33\n",
            "Epoch 11:\n",
            "  y_pred: 17.75\n",
            "  Error: 0.56\n",
            "  Updated w1: 0.99, w2: 7.30\n",
            "Epoch 12:\n",
            "  y_pred: 17.55\n",
            "  Error: 0.31\n",
            "  Updated w1: 0.95, w2: 7.28\n",
            "Epoch 13:\n",
            "  y_pred: 17.41\n",
            "  Error: 0.17\n",
            "  Updated w1: 0.93, w2: 7.26\n",
            "Epoch 14:\n",
            "  y_pred: 17.30\n",
            "  Error: 0.09\n",
            "  Updated w1: 0.91, w2: 7.25\n",
            "Epoch 15:\n",
            "  y_pred: 17.22\n",
            "  Error: 0.05\n",
            "  Updated w1: 0.90, w2: 7.24\n",
            "Epoch 16:\n",
            "  y_pred: 17.17\n",
            "  Error: 0.03\n",
            "  Updated w1: 0.89, w2: 7.23\n",
            "Epoch 17:\n",
            "  y_pred: 17.12\n",
            "  Error: 0.02\n",
            "  Updated w1: 0.88, w2: 7.23\n",
            "Epoch 18:\n",
            "  y_pred: 17.09\n",
            "  Error: 0.01\n",
            "  Updated w1: 0.87, w2: 7.22\n",
            "Epoch 19:\n",
            "  y_pred: 17.07\n",
            "  Error: 0.00\n",
            "  Updated w1: 0.87, w2: 7.22\n",
            "Epoch 20:\n",
            "  y_pred: 17.05\n",
            "  Error: 0.00\n",
            "  Updated w1: 0.87, w2: 7.22\n",
            "\n",
            "Training Complete\n",
            "Final Weights: w1 = 0.87, w2 = 7.22\n",
            "Final Prediction: y_pred = 17.05\n",
            "Final Error: 0.00\n"
          ]
        }
      ]
    },
    {
      "cell_type": "code",
      "source": [],
      "metadata": {
        "id": "CxiN9TjjaWMZ"
      },
      "execution_count": null,
      "outputs": []
    },
    {
      "cell_type": "markdown",
      "source": [
        "7. Visualization:\n",
        "● Plot the progression of the error across epochs.\n",
        "● Plot the progression of ypred across epochs."
      ],
      "metadata": {
        "id": "xLWVLD2FaWkF"
      }
    },
    {
      "cell_type": "code",
      "source": [
        "import numpy as np\n",
        "import matplotlib.pyplot as plt\n",
        "\n",
        "# Initialize inputs and target output\n",
        "x1, x2 = 3, 2\n",
        "y_actual = 17\n",
        "\n",
        "# Randomly initialize weights between 1 and 10\n",
        "np.random.seed(42)\n",
        "w1 = np.random.uniform(1, 10)\n",
        "w2 = np.random.uniform(1, 10)\n",
        "\n",
        "# Learning rate\n",
        "learning_rate = 0.01\n",
        "\n",
        "# Lists to store error and y_pred for visualization\n",
        "errors = []\n",
        "y_preds = []\n",
        "\n",
        "# Training loop for 20 iterations\n",
        "epochs = 20\n",
        "for epoch in range(epochs):\n",
        "    # Forward pass: Compute y_pred\n",
        "    y_pred = x1 * w1 + x2 * w2\n",
        "\n",
        "    # Compute squared error\n",
        "    error = (y_actual - y_pred)**2\n",
        "\n",
        "    # Store the error and y_pred for plotting\n",
        "    errors.append(error)\n",
        "    y_preds.append(y_pred)\n",
        "\n",
        "    # Backpropagation: Compute gradients\n",
        "    grad_w1 = -2 * (y_actual - y_pred) * x1\n",
        "    grad_w2 = -2 * (y_actual - y_pred) * x2\n",
        "\n",
        "    # Update weights\n",
        "    w1 -= learning_rate * grad_w1\n",
        "    w2 -= learning_rate * grad_w2\n",
        "\n",
        "# Visualization: Plot error and y_pred across epochs\n",
        "plt.figure(figsize=(12, 5))\n",
        "\n",
        "# Plot error progression\n",
        "plt.subplot(1, 2, 1)\n",
        "plt.plot(range(1, epochs + 1), errors, marker='o', label='Error')\n",
        "plt.title('Error Progression')\n",
        "plt.xlabel('Epoch')\n",
        "plt.ylabel('Squared Error')\n",
        "plt.grid(True)\n",
        "plt.legend()\n",
        "\n",
        "# Plot y_pred progression\n",
        "plt.subplot(1, 2, 2)\n",
        "plt.plot(range(1, epochs + 1), y_preds, marker='o', color='orange', label='y_pred')\n",
        "plt.axhline(y=y_actual, color='red', linestyle='--', label='y_actual')\n",
        "plt.title('y_pred Progression')\n",
        "plt.xlabel('Epoch')\n",
        "plt.ylabel('y_pred')\n",
        "plt.grid(True)\n",
        "plt.legend()\n",
        "\n",
        "plt.tight_layout()\n",
        "plt.show()\n"
      ],
      "metadata": {
        "colab": {
          "base_uri": "https://localhost:8080/",
          "height": 507
        },
        "id": "xfdGb5taaabn",
        "outputId": "1ba93eea-8e6c-485f-b7f8-93d67f9d9d26"
      },
      "execution_count": 7,
      "outputs": [
        {
          "output_type": "display_data",
          "data": {
            "text/plain": [
              "<Figure size 1200x500 with 2 Axes>"
            ],
            "image/png": "[encoded data removed]"
          },
          "metadata": {}
        }
      ]
    },
    {
      "cell_type": "markdown",
      "source": [],
      "metadata": {
        "id": "LSposDZQaxl8"
      }
    },
    {
      "cell_type": "markdown",
      "source": [
        "Possible Outcomes:\n",
        "Successful Training: If the graphs show the expected trends, the training process and implementation are correct, and the model learns as expected.\n",
        "Suboptimal Performance:\n",
        "If\n",
        "𝑦\n",
        "pred\n",
        "y\n",
        "pred\n",
        "​\n",
        "  does not approach\n",
        "17\n",
        "17 or the error does not decrease significantly, revisit the:\n",
        "Learning rate (too small/too large may hinder progress).\n",
        "Weight initialization (poor initialization may delay convergence).\n",
        "Gradient calculations or update steps."
      ],
      "metadata": {
        "id": "2sPLkIGSayFM"
      }
    },
    {
      "cell_type": "code",
      "source": [],
      "metadata": {
        "id": "MX1q2KoWainf"
      },
      "execution_count": null,
      "outputs": []
    }
  ]
}